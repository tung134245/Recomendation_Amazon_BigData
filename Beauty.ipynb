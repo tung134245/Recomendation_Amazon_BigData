{
  "cells": [
    {
      "cell_type": "markdown",
      "metadata": {
        "id": "view-in-github",
        "colab_type": "text"
      },
      "source": [
        "<a href=\"https://colab.research.google.com/github/tung134245/Recomendation_Amazon_BigData/blob/main/Beauty.ipynb\" target=\"_parent\"><img src=\"https://colab.research.google.com/assets/colab-badge.svg\" alt=\"Open In Colab\"/></a>"
      ]
    },
    {
      "cell_type": "code",
      "execution_count": 1,
      "metadata": {
        "id": "mNHS65tdbvtE"
      },
      "outputs": [],
      "source": [
        "!apt-get install openjdk-8-jdk-headless -qq > /dev/null\n",
        "!wget -q http://archive.apache.org/dist/spark/spark-3.1.1/spark-3.1.1-bin-hadoop3.2.tgz\n",
        "!tar xf spark-3.1.1-bin-hadoop3.2.tgz\n",
        "!pip install -q findspark"
      ]
    },
    {
      "cell_type": "code",
      "execution_count": 2,
      "metadata": {
        "id": "NP-2NRFOcIVO"
      },
      "outputs": [],
      "source": [
        "import os\n",
        "os.environ[\"JAVA_HOME\"] = \"/usr/lib/jvm/java-8-openjdk-amd64\"\n",
        "os.environ[\"SPARK_HOME\"] = \"/content/spark-3.1.1-bin-hadoop3.2\""
      ]
    },
    {
      "cell_type": "code",
      "execution_count": 3,
      "metadata": {
        "colab": {
          "base_uri": "https://localhost:8080/"
        },
        "id": "Psiey9KPcolH",
        "outputId": "cd0c69f5-055f-4113-a643-d15ad941e3fb"
      },
      "outputs": [
        {
          "output_type": "stream",
          "name": "stdout",
          "text": [
            "Requirement already satisfied: pyspark==3.1.1 in /usr/local/lib/python3.10/dist-packages (3.1.1)\n",
            "Requirement already satisfied: py4j==0.10.9 in /usr/local/lib/python3.10/dist-packages (from pyspark==3.1.1) (0.10.9)\n"
          ]
        }
      ],
      "source": [
        "!pip install pyspark==3.1.1"
      ]
    },
    {
      "cell_type": "code",
      "execution_count": 4,
      "metadata": {
        "id": "9z7EDTLl2E-6"
      },
      "outputs": [],
      "source": [
        "from pyspark import SparkContext\n",
        "from pyspark.sql import SparkSession\n",
        "from pyspark.sql import Row, SQLContext"
      ]
    },
    {
      "cell_type": "code",
      "execution_count": 5,
      "metadata": {
        "id": "JXogdKiW2cxM"
      },
      "outputs": [],
      "source": [
        "sc = SparkContext()"
      ]
    },
    {
      "cell_type": "code",
      "execution_count": 6,
      "metadata": {
        "id": "TggquQtA2fwG"
      },
      "outputs": [],
      "source": [
        "spark = SparkSession(sc)"
      ]
    },
    {
      "cell_type": "code",
      "execution_count": 7,
      "metadata": {
        "id": "J63D06oY2jBI"
      },
      "outputs": [],
      "source": [
        "sqlContext = SQLContext(sc)"
      ]
    },
    {
      "cell_type": "code",
      "execution_count": 8,
      "metadata": {
        "id": "iRMmBUMv5x5N",
        "colab": {
          "base_uri": "https://localhost:8080/"
        },
        "outputId": "0eaec134-53d8-4dc5-8276-a05aa222750f"
      },
      "outputs": [
        {
          "output_type": "stream",
          "name": "stdout",
          "text": [
            "Mounted at /content/gdrive\n"
          ]
        }
      ],
      "source": [
        "from google.colab import drive\n",
        "drive.mount('/content/gdrive', force_remount=True)"
      ]
    },
    {
      "cell_type": "code",
      "execution_count": 9,
      "metadata": {
        "id": "p9fypN26Is2A",
        "colab": {
          "base_uri": "https://localhost:8080/"
        },
        "outputId": "4aa9f6a0-87f9-4fbf-91c1-41f00560c760"
      },
      "outputs": [
        {
          "output_type": "stream",
          "name": "stdout",
          "text": [
            "/content/gdrive/My Drive/BigData/Chapter9\n"
          ]
        }
      ],
      "source": [
        "%cd '/content/gdrive/My Drive/BigData/Chapter9'"
      ]
    },
    {
      "cell_type": "code",
      "execution_count": 10,
      "metadata": {
        "id": "jlihyBeY-_TD"
      },
      "outputs": [],
      "source": [
        "from pyspark.sql.functions import *\n"
      ]
    },
    {
      "cell_type": "code",
      "execution_count": 11,
      "metadata": {
        "id": "dGHDvHe2ELVE"
      },
      "outputs": [],
      "source": [
        "from pyspark.sql.functions import to_date, dayofweek, to_timestamp\n",
        "from pyspark.sql import types\n",
        "from pyspark.sql.functions import col, udf\n",
        "from datetime import datetime\n",
        "from pyspark.sql.types import DateType\n",
        "from pyspark.sql.functions import year, month, dayofmonth, weekofyear\n",
        "from pyspark.ml.feature import *"
      ]
    },
    {
      "cell_type": "markdown",
      "source": [
        "## Đọc dữ liệu"
      ],
      "metadata": {
        "id": "3HhKCpP-7Hf_"
      }
    },
    {
      "cell_type": "code",
      "execution_count": 12,
      "metadata": {
        "id": "-xACM7LcJFXl",
        "colab": {
          "base_uri": "https://localhost:8080/"
        },
        "outputId": "e8847ce7-9b32-4656-8460-e49dae0d0fb1"
      },
      "outputs": [
        {
          "output_type": "stream",
          "name": "stdout",
          "text": [
            "+----------+--------+-------+--------------------+-----------+--------------+--------------------+--------------------+--------------+\n",
            "|      asin| helpful|overall|          reviewText| reviewTime|    reviewerID|        reviewerName|             summary|unixReviewTime|\n",
            "+----------+--------+-------+--------------------+-----------+--------------+--------------------+--------------------+--------------+\n",
            "|7806397051|  [3, 4]|    1.0|Very oily and cre...|01 30, 2014|A1YJEY40YUW4SE|              Andrea|Don't waste your ...|    1391040000|\n",
            "|7806397051|  [1, 1]|    3.0|This palette was ...|04 18, 2014| A60XNB876KYML|          Jessica H.|         OK Palette!|    1397779200|\n",
            "|7806397051|  [0, 1]|    4.0|The texture of th...| 09 6, 2013|A3G6XNM240RMWA|               Karen|       great quality|    1378425600|\n",
            "|7806397051|  [2, 2]|    2.0|I really can't te...| 12 8, 2013|A1PQFP6SAJ6D80|               Norah|Do not work on my...|    1386460800|\n",
            "|7806397051|  [0, 0]|    3.0|It was a little s...|10 19, 2013|A38FVHZTNQ271F|           Nova Amor|          It's okay.|    1382140800|\n",
            "|7806397051|  [1, 2]|    5.0|I was very happy ...|04 15, 2013|A3BTN14HIZET6Z|S. M. Randall \"Wi...|  Very nice palette!|    1365984000|\n",
            "|7806397051|  [1, 3]|    1.0|PLEASE DONT DO IT...|08 16, 2013|A1Z59RFKN0M5QL|   tasha \"luvely12b\"|              smh!!!|    1376611200|\n",
            "|7806397051|  [0, 1]|    2.0|Chalky,Not Pigmen...| 09 4, 2013| AWUO9P6PL1SY8|       TreMagnifique|Chalky, Not Pigme...|    1378252800|\n",
            "|9759091062|  [0, 0]|    2.0|Did nothing for m...|07 13, 2014|A3LMILRM9OC3SA|                null|no Lightening, no...|    1405209600|\n",
            "|9759091062|  [0, 0]|    3.0|I bought this pro...|12 27, 2013|A30IP88QK3YUIO| Amina Bint Ibraheem|         Its alright|    1388102400|\n",
            "|9759091062|  [0, 0]|    3.0|I have mixed feel...|05 20, 2014| APBQH4BS48CQO|             Charmmy|     Mixed feelings.|    1400544000|\n",
            "|9759091062|  [0, 0]|    1.0|Did nothing for m...|02 18, 2014|A3FE8W8UV95U6B|   Culture C Simmons|             Nothing|    1392681600|\n",
            "|9759091062|  [0, 1]|    5.0|I bought this pro...|01 23, 2014|A1EVGDOTGFZOSS|Jessica \"Anarchyk...|          This works|    1390435200|\n",
            "|9759091062|  [0, 0]|    1.0|This gell did not...|01 11, 2014| AP5WTCMP6DTRV|             Layla B|        Does nothing|    1389398400|\n",
            "|9759091062|  [0, 1]|    5.0|i got this to get...|02 18, 2014|A21IM16PQWKVO5|            mdub9922|            it works|    1392681600|\n",
            "|9759091062|  [0, 0]|    2.0|I used it for ana...| 04 6, 2014|A1TLDR1V4O48PK|Mickey O Neil \"Mi...|               burns|    1396742400|\n",
            "|9759091062|  [2, 4]|    5.0|I order this crea...|09 14, 2013| A6F8KH0J1AVYA|              SanBen|     Did work for me|    1379116800|\n",
            "|9759091062|  [2, 4]|    4.0|Good product. Use...|10 18, 2013| AXPKZA7UZXKTT|           Shirleyyy|           excellent|    1382054400|\n",
            "|9759091062|  [0, 1]|    3.0|I didn't use it p...| 11 1, 2013|A2SIAYDK7GG7QA|        theredtranny|         weird smell|    1383264000|\n",
            "|9788072216|[24, 24]|    5.0|I haven't been a ...|09 19, 2011|A1QV5IH6HDRN0L|            armygirl|Love the smell of...|    1316390400|\n",
            "+----------+--------+-------+--------------------+-----------+--------------+--------------------+--------------------+--------------+\n",
            "only showing top 20 rows\n",
            "\n"
          ]
        }
      ],
      "source": [
        "df = spark.read.json('/content/gdrive/My Drive/BigData/Chapter9/Beauty_5.json')\n",
        "df.show()"
      ]
    },
    {
      "cell_type": "code",
      "execution_count": 13,
      "metadata": {
        "id": "01S4N8WtO-So",
        "colab": {
          "base_uri": "https://localhost:8080/"
        },
        "outputId": "bc3291ca-3017-43ed-f9db-1ee8b5fc7763"
      },
      "outputs": [
        {
          "output_type": "stream",
          "name": "stdout",
          "text": [
            "root\n",
            " |-- asin: string (nullable = true)\n",
            " |-- helpful: array (nullable = true)\n",
            " |    |-- element: long (containsNull = true)\n",
            " |-- overall: double (nullable = true)\n",
            " |-- reviewText: string (nullable = true)\n",
            " |-- reviewTime: string (nullable = true)\n",
            " |-- reviewerID: string (nullable = true)\n",
            " |-- reviewerName: string (nullable = true)\n",
            " |-- summary: string (nullable = true)\n",
            " |-- unixReviewTime: long (nullable = true)\n",
            "\n"
          ]
        }
      ],
      "source": [
        "df.printSchema()"
      ]
    },
    {
      "cell_type": "markdown",
      "source": [
        "## Trích xuất dữ liệu"
      ],
      "metadata": {
        "id": "YivzUMiF7MGc"
      }
    },
    {
      "cell_type": "code",
      "source": [
        "df_sub = df.select(['asin', 'overall', 'reviewerID'])"
      ],
      "metadata": {
        "id": "xVJ9xfOwKplM"
      },
      "execution_count": 15,
      "outputs": []
    },
    {
      "cell_type": "code",
      "source": [
        "df_sub.count()"
      ],
      "metadata": {
        "colab": {
          "base_uri": "https://localhost:8080/"
        },
        "id": "mpbH1qXBf_to",
        "outputId": "6360a1f5-f5ba-4271-9582-29781a786384"
      },
      "execution_count": 16,
      "outputs": [
        {
          "output_type": "execute_result",
          "data": {
            "text/plain": [
              "198502"
            ]
          },
          "metadata": {},
          "execution_count": 16
        }
      ]
    },
    {
      "cell_type": "code",
      "source": [
        "df_sub.describe().show()"
      ],
      "metadata": {
        "colab": {
          "base_uri": "https://localhost:8080/"
        },
        "id": "K8XGOWgnhRMF",
        "outputId": "c667f9b5-b1e5-4cd7-91bb-aaaeaf9104d1"
      },
      "execution_count": 17,
      "outputs": [
        {
          "output_type": "stream",
          "name": "stdout",
          "text": [
            "+-------+-------------------+------------------+--------------------+\n",
            "|summary|               asin|           overall|          reviewerID|\n",
            "+-------+-------------------+------------------+--------------------+\n",
            "|  count|             198502|            198502|              198502|\n",
            "|   mean|9.326864459742857E9| 4.190391028805755|                null|\n",
            "| stddev| 8.39829661439545E8|1.1665795141887418|                null|\n",
            "|    min|         7806397051|               1.0|A00414041RD0BXM6W...|\n",
            "|    max|         B00LLPT4HI|               5.0|       AZZZLM1E5JJ8C|\n",
            "+-------+-------------------+------------------+--------------------+\n",
            "\n"
          ]
        }
      ]
    },
    {
      "cell_type": "code",
      "source": [
        "df_sub.printSchema()"
      ],
      "metadata": {
        "id": "pr9mhVPWhpEq",
        "colab": {
          "base_uri": "https://localhost:8080/"
        },
        "outputId": "0d2692b6-ccf0-4b00-9049-2449a01f1c04"
      },
      "execution_count": 18,
      "outputs": [
        {
          "output_type": "stream",
          "name": "stdout",
          "text": [
            "root\n",
            " |-- asin: string (nullable = true)\n",
            " |-- overall: double (nullable = true)\n",
            " |-- reviewerID: string (nullable = true)\n",
            "\n"
          ]
        }
      ]
    },
    {
      "cell_type": "markdown",
      "source": [
        "## Kiểm tra độ dày của ma trận"
      ],
      "metadata": {
        "id": "0P_DrUbM7anN"
      }
    },
    {
      "cell_type": "code",
      "source": [
        "users = df_sub.select(\"reviewerID\").distinct().count()\n",
        "products = df_sub.select(\"asin\").distinct().count()\n",
        "numerator = df_sub.count()"
      ],
      "metadata": {
        "id": "DZQlcWmHx_RU"
      },
      "execution_count": 19,
      "outputs": []
    },
    {
      "cell_type": "code",
      "source": [
        "display(numerator, users, products)"
      ],
      "metadata": {
        "colab": {
          "base_uri": "https://localhost:8080/",
          "height": 69
        },
        "id": "y0Qs22BGyGW5",
        "outputId": "02811828-2dcf-4509-c52e-b15966142b94"
      },
      "execution_count": 20,
      "outputs": [
        {
          "output_type": "display_data",
          "data": {
            "text/plain": [
              "198502"
            ]
          },
          "metadata": {}
        },
        {
          "output_type": "display_data",
          "data": {
            "text/plain": [
              "22363"
            ]
          },
          "metadata": {}
        },
        {
          "output_type": "display_data",
          "data": {
            "text/plain": [
              "12101"
            ]
          },
          "metadata": {}
        }
      ]
    },
    {
      "cell_type": "code",
      "source": [
        "denominator = users * products\n",
        "denominator"
      ],
      "metadata": {
        "colab": {
          "base_uri": "https://localhost:8080/"
        },
        "id": "P9gOH3KzyI9Z",
        "outputId": "748e2e35-6d57-49e5-c9dc-7239b4775597"
      },
      "execution_count": 21,
      "outputs": [
        {
          "output_type": "execute_result",
          "data": {
            "text/plain": [
              "270614663"
            ]
          },
          "metadata": {},
          "execution_count": 21
        }
      ]
    },
    {
      "cell_type": "code",
      "source": [
        "sparsity = 1 - (numerator*1.0 / denominator)\n",
        "sparsity"
      ],
      "metadata": {
        "colab": {
          "base_uri": "https://localhost:8080/"
        },
        "id": "zHswJRqeyLJG",
        "outputId": "558ca316-6a87-479a-f63d-eccae768ef65"
      },
      "execution_count": 22,
      "outputs": [
        {
          "output_type": "execute_result",
          "data": {
            "text/plain": [
              "0.9992664772935825"
            ]
          },
          "metadata": {},
          "execution_count": 22
        }
      ]
    },
    {
      "cell_type": "code",
      "source": [
        "from pyspark.ml.evaluation import RegressionEvaluator\n",
        "from pyspark.ml.recommendation import ALS"
      ],
      "metadata": {
        "id": "gFpohmalyPKK"
      },
      "execution_count": 23,
      "outputs": []
    },
    {
      "cell_type": "markdown",
      "source": [
        "## Tiền xử lý"
      ],
      "metadata": {
        "id": "sBHR2OkQ7eg6"
      }
    },
    {
      "cell_type": "code",
      "source": [
        "from pyspark.ml.feature import *"
      ],
      "metadata": {
        "id": "iKtaleHgySQb"
      },
      "execution_count": 24,
      "outputs": []
    },
    {
      "cell_type": "code",
      "source": [
        "indexer = StringIndexer(inputCol='asin',\n",
        "                        outputCol='asin_idx')\n",
        "\n",
        "indexer_model = indexer.fit(df_sub)\n",
        "\n",
        "df_indexed = indexer_model.transform(df_sub)\n",
        "\n",
        "indexer_ = StringIndexer(inputCol='reviewerID',\n",
        "                         outputCol='reviewerID_idx')\n",
        "indexer_model_ = indexer_.fit(df_indexed)\n",
        "df_indexed = indexer_model_.transform(df_indexed)"
      ],
      "metadata": {
        "id": "RCzvBQZ7yYQy"
      },
      "execution_count": 25,
      "outputs": []
    },
    {
      "cell_type": "code",
      "source": [
        "df_indexed.show(5, False)"
      ],
      "metadata": {
        "colab": {
          "base_uri": "https://localhost:8080/"
        },
        "id": "c4XC_d5UyxfI",
        "outputId": "90c3e7c6-4a8c-441d-d524-bfc04b196975"
      },
      "execution_count": 26,
      "outputs": [
        {
          "output_type": "stream",
          "name": "stdout",
          "text": [
            "+----------+-------+--------------+--------+--------------+\n",
            "|asin      |overall|reviewerID    |asin_idx|reviewerID_idx|\n",
            "+----------+-------+--------------+--------+--------------+\n",
            "|7806397051|1.0    |A1YJEY40YUW4SE|6194.0  |16983.0       |\n",
            "|7806397051|3.0    |A60XNB876KYML |6194.0  |10399.0       |\n",
            "|7806397051|4.0    |A3G6XNM240RMWA|6194.0  |5985.0        |\n",
            "|7806397051|2.0    |A1PQFP6SAJ6D80|6194.0  |11765.0       |\n",
            "|7806397051|3.0    |A38FVHZTNQ271F|6194.0  |5910.0        |\n",
            "+----------+-------+--------------+--------+--------------+\n",
            "only showing top 5 rows\n",
            "\n"
          ]
        }
      ]
    },
    {
      "cell_type": "code",
      "source": [
        "df_indexed.describe().show()"
      ],
      "metadata": {
        "colab": {
          "base_uri": "https://localhost:8080/"
        },
        "id": "QqSmQCady4ME",
        "outputId": "88627302-3c3a-4dcb-ca9d-161e2458f482"
      },
      "execution_count": 27,
      "outputs": [
        {
          "output_type": "stream",
          "name": "stdout",
          "text": [
            "+-------+-------------------+------------------+--------------------+------------------+-----------------+\n",
            "|summary|               asin|           overall|          reviewerID|          asin_idx|   reviewerID_idx|\n",
            "+-------+-------------------+------------------+--------------------+------------------+-----------------+\n",
            "|  count|             198502|            198502|              198502|            198502|           198502|\n",
            "|   mean|9.326864459742857E9| 4.190391028805755|                null| 3033.162703650341|7710.090784979497|\n",
            "| stddev| 8.39829661439545E8|1.1665795141887418|                null|3236.3522542646283|6674.790355275204|\n",
            "|    min|         7806397051|               1.0|A00414041RD0BXM6W...|               0.0|              0.0|\n",
            "|    max|         B00LLPT4HI|               5.0|       AZZZLM1E5JJ8C|           12100.0|          22362.0|\n",
            "+-------+-------------------+------------------+--------------------+------------------+-----------------+\n",
            "\n"
          ]
        }
      ]
    },
    {
      "cell_type": "code",
      "source": [
        "train_data, test_data = df_indexed.randomSplit([0.8, 0.2])"
      ],
      "metadata": {
        "id": "L-fF9OkUy9GP"
      },
      "execution_count": 28,
      "outputs": []
    },
    {
      "cell_type": "markdown",
      "source": [
        "## Xây dựng mô hình"
      ],
      "metadata": {
        "id": "6tu7HnhS7iry"
      }
    },
    {
      "cell_type": "code",
      "source": [
        "from pyspark.ml.evaluation import RegressionEvaluator\n",
        "from pyspark.ml.recommendation import ALS"
      ],
      "metadata": {
        "id": "u9oy_hdQzJK1"
      },
      "execution_count": 29,
      "outputs": []
    },
    {
      "cell_type": "code",
      "source": [
        "als = ALS(maxIter=20,\n",
        "          regParam=0.01,\n",
        "          rank = 25,\n",
        "          userCol=\"reviewerID_idx\",\n",
        "          itemCol=\"asin_idx\",\n",
        "          ratingCol=\"overall\",\n",
        "          coldStartStrategy=\"drop\",\n",
        "          nonnegative=True)\n",
        "model = als.fit(train_data)"
      ],
      "metadata": {
        "id": "frtr8a8GzLjO"
      },
      "execution_count": 30,
      "outputs": []
    },
    {
      "cell_type": "code",
      "source": [
        "predictions = model.transform(test_data)"
      ],
      "metadata": {
        "id": "PTaipkgrzULp"
      },
      "execution_count": 31,
      "outputs": []
    },
    {
      "cell_type": "code",
      "source": [
        "evaluator = RegressionEvaluator(metricName=\"rmse\",\n",
        "                                labelCol=\"overall\",\n",
        "                                predictionCol=\"prediction\")\n",
        "rmse = evaluator.evaluate(predictions)"
      ],
      "metadata": {
        "id": "XTMvELBfzWtC"
      },
      "execution_count": 32,
      "outputs": []
    },
    {
      "cell_type": "code",
      "source": [
        "print(\"RMSE:\", rmse)"
      ],
      "metadata": {
        "colab": {
          "base_uri": "https://localhost:8080/"
        },
        "id": "l1XuCdVBzbm8",
        "outputId": "0770754b-5cfe-46a1-a93b-5e2d5ff2c962"
      },
      "execution_count": 33,
      "outputs": [
        {
          "output_type": "stream",
          "name": "stdout",
          "text": [
            "RMSE: 1.44432173922828\n"
          ]
        }
      ]
    },
    {
      "cell_type": "markdown",
      "source": [
        "## Tiến hành đề xuất"
      ],
      "metadata": {
        "id": "pXgTP_IB7nHk"
      }
    },
    {
      "cell_type": "code",
      "source": [
        "user_recs = model.recommendForAllUsers(5)"
      ],
      "metadata": {
        "id": "iPyp7y6PziKO"
      },
      "execution_count": 36,
      "outputs": []
    },
    {
      "cell_type": "code",
      "source": [
        "user_recs.count()"
      ],
      "metadata": {
        "colab": {
          "base_uri": "https://localhost:8080/"
        },
        "id": "hBQ6-jUM2AWT",
        "outputId": "80e9e955-dc7d-4ca2-f80e-2317cdb87cdf"
      },
      "execution_count": 37,
      "outputs": [
        {
          "output_type": "execute_result",
          "data": {
            "text/plain": [
              "22360"
            ]
          },
          "metadata": {},
          "execution_count": 37
        }
      ]
    },
    {
      "cell_type": "code",
      "source": [
        "user_recs.show(10, truncate=False)"
      ],
      "metadata": {
        "colab": {
          "base_uri": "https://localhost:8080/"
        },
        "id": "zDPAnlV-2NgK",
        "outputId": "b25c5866-b693-4b1d-c98f-d54a42dace15"
      },
      "execution_count": 38,
      "outputs": [
        {
          "output_type": "stream",
          "name": "stdout",
          "text": [
            "+--------------+-------------------------------------------------------------------------------------------------+\n",
            "|reviewerID_idx|recommendations                                                                                  |\n",
            "+--------------+-------------------------------------------------------------------------------------------------+\n",
            "|1580          |[{8541, 6.7651796}, {11011, 6.5288467}, {11437, 6.489747}, {10415, 6.3831987}, {3604, 6.2851367}]|\n",
            "|4900          |[{10838, 7.509685}, {5137, 7.397314}, {7372, 7.3265157}, {4452, 7.240062}, {5606, 7.2139454}]    |\n",
            "|5300          |[{3702, 6.548118}, {6069, 6.476222}, {10367, 6.4254704}, {2692, 6.4173827}, {10340, 6.3819003}]  |\n",
            "|6620          |[{2730, 6.206671}, {4934, 5.847941}, {6240, 5.8326526}, {9641, 5.8168974}, {10048, 5.756711}]    |\n",
            "|7240          |[{8421, 6.082803}, {4923, 6.060949}, {8358, 5.9993167}, {5115, 5.9568667}, {9142, 5.942891}]     |\n",
            "|7340          |[{5115, 6.255713}, {4327, 5.604293}, {6795, 5.5822797}, {11653, 5.557352}, {4873, 5.4762}]       |\n",
            "|7880          |[{4438, 5.7665153}, {8821, 5.6550965}, {4934, 5.648886}, {6197, 5.6209106}, {6918, 5.5813074}]   |\n",
            "|9900          |[{5115, 5.654342}, {9525, 5.559637}, {8940, 5.4913373}, {10367, 5.483375}, {9900, 5.469205}]     |\n",
            "|12940         |[{6746, 4.9914317}, {942, 4.981975}, {8685, 4.9784956}, {2396, 4.810832}, {1762, 4.76086}]       |\n",
            "|13840         |[{6045, 5.317318}, {10546, 5.2528925}, {4363, 5.2297845}, {3423, 5.0762687}, {9197, 5.061328}]   |\n",
            "+--------------+-------------------------------------------------------------------------------------------------+\n",
            "only showing top 10 rows\n",
            "\n"
          ]
        }
      ]
    },
    {
      "cell_type": "code",
      "source": [
        "df_reviewer_reviewer_id = df_indexed.select('reviewerID_idx', 'reviewerID').distinct()\n",
        "df_reviewer_reviewer_id.show(5, False)"
      ],
      "metadata": {
        "colab": {
          "base_uri": "https://localhost:8080/"
        },
        "id": "Czm7AWiQ2S5y",
        "outputId": "297eebfc-ae7d-4b0e-f748-69bd6a2ee70c"
      },
      "execution_count": 39,
      "outputs": [
        {
          "output_type": "stream",
          "name": "stdout",
          "text": [
            "+--------------+--------------+\n",
            "|reviewerID_idx|reviewerID    |\n",
            "+--------------+--------------+\n",
            "|7501.0        |A339O8ZW72WHZ0|\n",
            "|2.0           |AKMEY1BSHSDG7 |\n",
            "|9739.0        |A30B9UTVDTUQ7Y|\n",
            "|11415.0       |A1FMYCX030FIDE|\n",
            "|718.0         |AUFB3GQJV10P0 |\n",
            "+--------------+--------------+\n",
            "only showing top 5 rows\n",
            "\n"
          ]
        }
      ]
    },
    {
      "cell_type": "code",
      "source": [
        "df_asin_asin_idx = df_indexed.select('asin_idx', 'asin').distinct()\n",
        "df_asin_asin_idx.show(5, False)"
      ],
      "metadata": {
        "colab": {
          "base_uri": "https://localhost:8080/"
        },
        "id": "VZUt0GnO3vtM",
        "outputId": "1102ca1f-6dd9-4640-c707-24e58096c782"
      },
      "execution_count": 41,
      "outputs": [
        {
          "output_type": "stream",
          "name": "stdout",
          "text": [
            "+--------+----------+\n",
            "|asin_idx|asin      |\n",
            "+--------+----------+\n",
            "|6203.0  |B00005TZU8|\n",
            "|9941.0  |B00005UN90|\n",
            "|3659.0  |B000142ZFS|\n",
            "|810.0   |B00027DDOQ|\n",
            "|3399.0  |B0006IJA5C|\n",
            "+--------+----------+\n",
            "only showing top 5 rows\n",
            "\n"
          ]
        }
      ]
    },
    {
      "cell_type": "code",
      "source": [
        "new_user_recs = user_recs.join(df_reviewer_reviewer_id, on=['reviewerID_idx'], how='left')\n",
        "new_user_recs.show(10, False)"
      ],
      "metadata": {
        "colab": {
          "base_uri": "https://localhost:8080/"
        },
        "id": "2J56nNYw30UM",
        "outputId": "cfe63e82-4698-4324-87e5-875af531546d"
      },
      "execution_count": 42,
      "outputs": [
        {
          "output_type": "stream",
          "name": "stdout",
          "text": [
            "+--------------+------------------------------------------------------------------------------------------------+--------------+\n",
            "|reviewerID_idx|recommendations                                                                                 |reviewerID    |\n",
            "+--------------+------------------------------------------------------------------------------------------------+--------------+\n",
            "|299           |[{10641, 7.1514482}, {2767, 6.8824263}, {10447, 6.8379774}, {5115, 6.835708}, {4740, 6.769886}] |A2CZPM110DW516|\n",
            "|305           |[{2086, 8.205831}, {815, 7.8249636}, {2623, 7.601781}, {130, 7.5908756}, {8588, 7.5855093}]     |A3EPHBMU07LZ50|\n",
            "|496           |[{4386, 5.972968}, {7914, 5.8665743}, {11789, 5.8403316}, {6687, 5.830493}, {4502, 5.792334}]   |A2A5C9IQ06CG9N|\n",
            "|558           |[{9125, 7.2278113}, {3523, 7.0216823}, {3162, 6.7413983}, {8617, 6.6723247}, {5237, 6.614396}]  |A9LWDP1HECAU0 |\n",
            "|596           |[{8701, 6.0224476}, {4327, 6.005945}, {3701, 5.9337296}, {7275, 5.906786}, {4538, 5.880072}]    |AEJEG1P5S4J9Y |\n",
            "|692           |[{3799, 6.9651384}, {7070, 6.928198}, {10764, 6.73108}, {3132, 6.5701976}, {9124, 6.3874936}]   |A2XNJJ9TF70P4J|\n",
            "|769           |[{9983, 8.082749}, {10453, 7.807568}, {5011, 7.483547}, {4973, 7.4666986}, {8050, 7.436129}]    |A3PYMW0LCZUJR6|\n",
            "|934           |[{5571, 6.4156795}, {5115, 6.3822484}, {8565, 6.339763}, {3163, 6.262237}, {4457, 6.2364073}]   |AX7QMRXX81L9K |\n",
            "|1051          |[{6358, 6.7566304}, {10823, 6.507962}, {1291, 6.3140225}, {4102, 6.2523603}, {11155, 6.2459784}]|A22B13EJTZKCTM|\n",
            "|1761          |[{9900, 7.777522}, {10381, 7.491329}, {9199, 7.48995}, {8940, 7.464619}, {2053, 7.462313}]      |A1P5QZJB3QWL0B|\n",
            "+--------------+------------------------------------------------------------------------------------------------+--------------+\n",
            "only showing top 10 rows\n",
            "\n"
          ]
        }
      ]
    },
    {
      "cell_type": "code",
      "source": [
        "revi_Id = 'AJK5XGCM6M68A'\n",
        "result = new_user_recs.filter(new_user_recs['reviewerID'] == revi_Id)\n",
        "result.show(truncate=False)"
      ],
      "metadata": {
        "colab": {
          "base_uri": "https://localhost:8080/"
        },
        "id": "chsxj8jY4fDe",
        "outputId": "08cdb8d3-fba8-4185-bef4-13c528a2704d"
      },
      "execution_count": 46,
      "outputs": [
        {
          "output_type": "stream",
          "name": "stdout",
          "text": [
            "+--------------+--------------------------------------------------------------------------------------------+-------------+\n",
            "|reviewerID_idx|recommendations                                                                             |reviewerID   |\n",
            "+--------------+--------------------------------------------------------------------------------------------+-------------+\n",
            "|21521         |[{5115, 6.334028}, {9900, 6.0763755}, {8940, 5.927455}, {2129, 5.9069757}, {9199, 5.904381}]|AJK5XGCM6M68A|\n",
            "+--------------+--------------------------------------------------------------------------------------------+-------------+\n",
            "\n"
          ]
        }
      ]
    },
    {
      "cell_type": "code",
      "source": [
        "result = result.select(result.reviewerID, explode(result.recommendations))\n",
        "result.show(4)"
      ],
      "metadata": {
        "colab": {
          "base_uri": "https://localhost:8080/"
        },
        "id": "Ix6FwyJQ4Vp-",
        "outputId": "67308ae6-b253-42f9-f9de-841deff08871"
      },
      "execution_count": 48,
      "outputs": [
        {
          "output_type": "stream",
          "name": "stdout",
          "text": [
            "+-------------+-----------------+\n",
            "|   reviewerID|              col|\n",
            "+-------------+-----------------+\n",
            "|AJK5XGCM6M68A| {5115, 6.334028}|\n",
            "|AJK5XGCM6M68A|{9900, 6.0763755}|\n",
            "|AJK5XGCM6M68A| {8940, 5.927455}|\n",
            "|AJK5XGCM6M68A|{2129, 5.9069757}|\n",
            "+-------------+-----------------+\n",
            "only showing top 4 rows\n",
            "\n"
          ]
        }
      ]
    },
    {
      "cell_type": "code",
      "source": [
        "result.printSchema()"
      ],
      "metadata": {
        "colab": {
          "base_uri": "https://localhost:8080/"
        },
        "id": "BJ2XV_Kw6OrM",
        "outputId": "40927e4f-3873-4167-9710-cb10e8d0e0e3"
      },
      "execution_count": 49,
      "outputs": [
        {
          "output_type": "stream",
          "name": "stdout",
          "text": [
            "root\n",
            " |-- reviewerID: string (nullable = true)\n",
            " |-- col: struct (nullable = true)\n",
            " |    |-- asin_idx: integer (nullable = true)\n",
            " |    |-- rating: float (nullable = true)\n",
            "\n"
          ]
        }
      ]
    },
    {
      "cell_type": "code",
      "source": [
        "result = result.withColumn('asin_idx', result.col.getField('asin_idx'))\n",
        "result = result.withColumn('rating', result.col.getField('rating'))\n",
        "result.show(5)"
      ],
      "metadata": {
        "colab": {
          "base_uri": "https://localhost:8080/"
        },
        "id": "V6gZEaLq4bfO",
        "outputId": "94aebf31-a15e-4748-e8db-f524f634ff02"
      },
      "execution_count": 50,
      "outputs": [
        {
          "output_type": "stream",
          "name": "stdout",
          "text": [
            "+-------------+-----------------+--------+---------+\n",
            "|   reviewerID|              col|asin_idx|   rating|\n",
            "+-------------+-----------------+--------+---------+\n",
            "|AJK5XGCM6M68A| {5115, 6.334028}|    5115| 6.334028|\n",
            "|AJK5XGCM6M68A|{9900, 6.0763755}|    9900|6.0763755|\n",
            "|AJK5XGCM6M68A| {8940, 5.927455}|    8940| 5.927455|\n",
            "|AJK5XGCM6M68A|{2129, 5.9069757}|    2129|5.9069757|\n",
            "|AJK5XGCM6M68A| {9199, 5.904381}|    9199| 5.904381|\n",
            "+-------------+-----------------+--------+---------+\n",
            "\n"
          ]
        }
      ]
    },
    {
      "cell_type": "code",
      "source": [
        "recs = result.join(df_asin_asin_idx, on=['asin_idx'], how='left')\n",
        "recs.show(10, False)"
      ],
      "metadata": {
        "colab": {
          "base_uri": "https://localhost:8080/"
        },
        "id": "OHnyWrW16aG_",
        "outputId": "912cd515-d273-4c8f-8c53-0a007516a509"
      },
      "execution_count": 51,
      "outputs": [
        {
          "output_type": "stream",
          "name": "stdout",
          "text": [
            "+--------+-------------+-----------------+---------+----------+\n",
            "|asin_idx|reviewerID   |col              |rating   |asin      |\n",
            "+--------+-------------+-----------------+---------+----------+\n",
            "|2129    |AJK5XGCM6M68A|{2129, 5.9069757}|5.9069757|B00ELN94GS|\n",
            "|8940    |AJK5XGCM6M68A|{8940, 5.927455} |5.927455 |B0029OIWNC|\n",
            "|5115    |AJK5XGCM6M68A|{5115, 6.334028} |6.334028 |B001H3JQ0E|\n",
            "|9900    |AJK5XGCM6M68A|{9900, 6.0763755}|6.0763755|B00H8JPMX6|\n",
            "|9199    |AJK5XGCM6M68A|{9199, 5.904381} |5.904381 |B00429S19C|\n",
            "+--------+-------------+-----------------+---------+----------+\n",
            "\n"
          ]
        }
      ]
    },
    {
      "cell_type": "code",
      "source": [],
      "metadata": {
        "id": "r06BaHsd6oFo"
      },
      "execution_count": null,
      "outputs": []
    }
  ],
  "metadata": {
    "colab": {
      "provenance": [],
      "gpuType": "T4",
      "authorship_tag": "ABX9TyNKXPiUMi0OdNLkWXgSIw61",
      "include_colab_link": true
    },
    "kernelspec": {
      "display_name": "Python 3",
      "name": "python3"
    },
    "language_info": {
      "name": "python"
    },
    "accelerator": "GPU"
  },
  "nbformat": 4,
  "nbformat_minor": 0
}